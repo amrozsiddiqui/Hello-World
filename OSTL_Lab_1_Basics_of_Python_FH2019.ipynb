{
  "nbformat": 4,
  "nbformat_minor": 0,
  "metadata": {
    "colab": {
      "name": "OSTL_Lab_1_Basics_of_Python_FH2019.ipynb",
      "version": "0.3.2",
      "provenance": [],
      "include_colab_link": true
    },
    "kernelspec": {
      "display_name": "Python 3",
      "language": "python",
      "name": "python3"
    }
  },
  "cells": [
    {
      "cell_type": "markdown",
      "metadata": {
        "id": "view-in-github",
        "colab_type": "text"
      },
      "source": [
        "<a href=\"https://colab.research.google.com/github/amrozsiddiqui/Hello-World/blob/master/OSTL_Lab_1_Basics_of_Python_FH2019.ipynb\" target=\"_parent\"><img src=\"https://colab.research.google.com/assets/colab-badge.svg\" alt=\"Open In Colab\"/></a>"
      ]
    },
    {
      "metadata": {
        "id": "6Xt7onDOAQCK",
        "colab_type": "text"
      },
      "cell_type": "markdown",
      "source": [
        "# Python Basics"
      ]
    },
    {
      "metadata": {
        "id": "i0iqXRxHAQCM",
        "colab_type": "code",
        "colab": {
          "base_uri": "https://localhost:8080/",
          "height": 68
        },
        "outputId": "0c1a4e8c-5cb1-4b04-bf81-cd639c19f6c3"
      },
      "cell_type": "code",
      "source": [
        "# Printing a string\n",
        "print(\"Hello, Python!\")\n",
        "print('hi')\n",
        "print(\"Why is a Raven like a writing desk?\")"
      ],
      "execution_count": 1,
      "outputs": [
        {
          "output_type": "stream",
          "text": [
            "Hello, Python!\n",
            "hi\n",
            "Why is a Raven like a writing desk?\n"
          ],
          "name": "stdout"
        }
      ]
    },
    {
      "metadata": {
        "id": "JHFMCWWoAQCS",
        "colab_type": "text"
      },
      "cell_type": "markdown",
      "source": [
        "### Variables"
      ]
    },
    {
      "metadata": {
        "id": "zzMWfid0AQCU",
        "colab_type": "code",
        "colab": {},
        "outputId": "e9c4605b-11b4-4d88-f7f2-a9229372c4fb"
      },
      "cell_type": "code",
      "source": [
        "# defining a variable : In Python there is no need to mention the data type\n",
        "\n",
        "var1 = 10      # An integer assignment\n",
        "var2 = 3.146   # A floating point\n",
        "var3 = \"Hello\" # A string\n",
        "\n",
        "print(var1,' ',var2,' ',var3)"
      ],
      "execution_count": 0,
      "outputs": [
        {
          "output_type": "stream",
          "text": [
            "10   3.146   Hello\n"
          ],
          "name": "stdout"
        }
      ]
    },
    {
      "metadata": {
        "id": "m5YpBEkmAQCX",
        "colab_type": "text"
      },
      "cell_type": "markdown",
      "source": [
        "### Assignments"
      ]
    },
    {
      "metadata": {
        "id": "wMbYleUhAQCY",
        "colab_type": "code",
        "colab": {},
        "outputId": "3c505e46-f1aa-4696-ce6a-e888f72c9117"
      },
      "cell_type": "code",
      "source": [
        "# Assigning same value to multiple variables\n",
        "\n",
        "var1 = var2 = var3 = 1\n",
        "print(var1,' ',var2,' ',var3)\n",
        "\n",
        "# Assigning Different values to variable in a single expression\n",
        "\n",
        "var1, var2, var3 = 1, 2.5, \"john\"\n",
        "print(var1,' ',var2,' ',var3)\n",
        "\n",
        "# Note: commas can be used for multi-assignments"
      ],
      "execution_count": 0,
      "outputs": [
        {
          "output_type": "stream",
          "text": [
            "1   1   1\n",
            "1   2.5   john\n"
          ],
          "name": "stdout"
        }
      ]
    },
    {
      "metadata": {
        "id": "KRZvRO6_AQCc",
        "colab_type": "text"
      },
      "cell_type": "markdown",
      "source": [
        "### Slicing"
      ]
    },
    {
      "metadata": {
        "id": "0MvX-IWnAQCd",
        "colab_type": "code",
        "colab": {},
        "outputId": "bac944fe-8db9-4e95-c6ad-e40eb73055d9"
      },
      "cell_type": "code",
      "source": [
        "# String operations\n",
        "\n",
        "str = 'Hello World!'  # A string\n",
        "\n",
        "print(str)          # Prints complete string\n",
        "print(str[0])       # Prints first character of the string\n",
        "print(str[2:5])     # Prints characters starting from 3rd to 5th element\n",
        "print(str[2:])      # Prints string starting from 3rd character\n",
        "print(str[:2])\n",
        "print(str * 2)      # Prints string two times\n",
        "print(str + \"TEST\") # Prints concatenated string"
      ],
      "execution_count": 0,
      "outputs": [
        {
          "output_type": "stream",
          "text": [
            "Hello World!\n",
            "H\n",
            "llo\n",
            "llo World!\n",
            "He\n",
            "Hello World!Hello World!\n",
            "Hello World!TEST\n"
          ],
          "name": "stdout"
        }
      ]
    },
    {
      "metadata": {
        "id": "BvPBoPeuAQCh",
        "colab_type": "text"
      },
      "cell_type": "markdown",
      "source": [
        "### Data Types"
      ]
    },
    {
      "metadata": {
        "id": "Ro0i_QRNAQCi",
        "colab_type": "code",
        "colab": {},
        "outputId": "1143ea4f-d46c-4865-d403-0bd7d835cac2"
      },
      "cell_type": "code",
      "source": [
        "# Python Lists\n",
        "list = [ 'abcd', 76 , 2.23, 'john', 70.2 ]  # A list\n",
        "tuple = ( 'abcd', 76 , 2.23, 'john', 70.2  ) # A tuple. Tuples are immutable, i.e. cannot be edit later\n",
        "\n",
        "print(list)            # Prints complete list\n",
        "print(list[0])         # Prints first element of the list\n",
        "print(tuple[1:3])        # Prints elements starting from 2nd till 3rd "
      ],
      "execution_count": 0,
      "outputs": [
        {
          "output_type": "stream",
          "text": [
            "['abcd', 76, 2.23, 'john', 70.2]\n",
            "abcd\n",
            "(76, 2.23)\n"
          ],
          "name": "stdout"
        }
      ]
    },
    {
      "metadata": {
        "id": "_31Lt3nGAQCl",
        "colab_type": "text"
      },
      "cell_type": "markdown",
      "source": [
        "#### Dictionaries"
      ]
    },
    {
      "metadata": {
        "id": "evI3ZDoQAQCm",
        "colab_type": "code",
        "colab": {},
        "outputId": "5eca803e-2d17-4525-b4c2-024ad4b681c2"
      },
      "cell_type": "code",
      "source": [
        "# Lists are ordered sets of objects, whereas dictionaries are unordered sets. \n",
        "# But the main difference is that items in dictionaries are accessed via keys and not via their position.\n",
        "tel = {'Sherlock': 4098, 'Watson': 4139}\n",
        "tel['Moriarty'] = 4127\n",
        "print(tel)\n",
        "print(tel['Sherlock'])\n",
        "del tel['Watson']\n",
        "tel['Lestrade'] = 4127\n",
        "print(tel)\n",
        "print(tel.keys())\n",
        "print(sorted(tel.keys()))\n",
        "print(sorted(tel.values()))\n",
        "print('Lestrade' in tel)\n",
        "print('Watson' not in tel)\n",
        "print('Watson' in tel)"
      ],
      "execution_count": 0,
      "outputs": [
        {
          "output_type": "stream",
          "text": [
            "{'Sherlock': 4098, 'Watson': 4139, 'Moriarty': 4127}\n",
            "4098\n",
            "{'Sherlock': 4098, 'Moriarty': 4127, 'Lestrade': 4127}\n",
            "dict_keys(['Sherlock', 'Moriarty', 'Lestrade'])\n",
            "['Lestrade', 'Moriarty', 'Sherlock']\n",
            "[4098, 4127, 4127]\n",
            "True\n",
            "True\n",
            "False\n"
          ],
          "name": "stdout"
        }
      ]
    },
    {
      "metadata": {
        "id": "c67zpzPjAQCr",
        "colab_type": "text"
      },
      "cell_type": "markdown",
      "source": [
        "### Conditioning and Looping"
      ]
    },
    {
      "metadata": {
        "id": "eoDnX9LtAQCs",
        "colab_type": "code",
        "colab": {},
        "outputId": "14c7823e-3a28-4661-f151-fc61c17bd871"
      },
      "cell_type": "code",
      "source": [
        "# Square of Even numbers\n",
        "\n",
        "for i in range(0,10):\n",
        "    \n",
        "    if i%2 == 0:\n",
        "        print(\"Square of \",i,\" is :\",i*i)\n",
        "        \n",
        "    else:\n",
        "        print(i,\"is an odd number\")  "
      ],
      "execution_count": 0,
      "outputs": [
        {
          "output_type": "stream",
          "text": [
            "Square of  0  is : 0\n",
            "1 is an odd number\n",
            "Square of  2  is : 4\n",
            "3 is an odd number\n",
            "Square of  4  is : 16\n",
            "5 is an odd number\n",
            "Square of  6  is : 36\n",
            "7 is an odd number\n",
            "Square of  8  is : 64\n",
            "9 is an odd number\n"
          ],
          "name": "stdout"
        }
      ]
    },
    {
      "metadata": {
        "id": "jpMfBO3hAQCv",
        "colab_type": "text"
      },
      "cell_type": "markdown",
      "source": [
        "### Built-in Functions"
      ]
    },
    {
      "metadata": {
        "id": "UnDPvKpwAQCw",
        "colab_type": "code",
        "colab": {},
        "outputId": "56230a38-5a9b-4d61-850b-66cbef1cb10e"
      },
      "cell_type": "code",
      "source": [
        "print(\"Sum of array: \",sum([1,2,3,4]))\n",
        "print(\"Length of array: \",len([1,2,3,4]))\n",
        "print(\"Absolute value: \",abs(-1234))\n",
        "print(\"Round value: \",round(1.2234))\n",
        "\n",
        "import math as mt      # importing a package\n",
        "print(\"Log value: \",mt.log(10))"
      ],
      "execution_count": 0,
      "outputs": [
        {
          "output_type": "stream",
          "text": [
            "Sum of array:  10\n",
            "Length of array:  4\n",
            "Absolute value:  1234\n",
            "Round value:  1\n",
            "Log value:  2.302585092994046\n"
          ],
          "name": "stdout"
        }
      ]
    },
    {
      "metadata": {
        "id": "DWNjsg8NAQCz",
        "colab_type": "text"
      },
      "cell_type": "markdown",
      "source": [
        "### Functions"
      ]
    },
    {
      "metadata": {
        "id": "nyqxj0JlAQC0",
        "colab_type": "code",
        "colab": {},
        "outputId": "627ec3c2-c9ad-4394-b8fd-da53826f9ecc"
      },
      "cell_type": "code",
      "source": [
        "def area(length,width):\n",
        "    return length*width\n",
        "are = area(10,20)\n",
        "print(\"Area of rectangle:\",are)"
      ],
      "execution_count": 0,
      "outputs": [
        {
          "output_type": "stream",
          "text": [
            "Area of rectangle: 200\n"
          ],
          "name": "stdout"
        }
      ]
    },
    {
      "metadata": {
        "id": "5FTUZ6qzAQC3",
        "colab_type": "text"
      },
      "cell_type": "markdown",
      "source": [
        "### Class"
      ]
    },
    {
      "metadata": {
        "id": "xQB5c9k7AQC4",
        "colab_type": "code",
        "colab": {},
        "outputId": "9f6377c6-f716-4779-bf1a-5efe9b6e48b7"
      },
      "cell_type": "code",
      "source": [
        "class my_class:\n",
        "    \n",
        "    mean_x = 0\n",
        "    mean_y = 0\n",
        "    \n",
        "    def __init__(self,i,j):\n",
        "        self.x = i\n",
        "        self.y = j\n",
        "        \n",
        "        \n",
        "    def show(self):\n",
        "        print (self.x)\n",
        "        print (self.y)\n",
        "        \n",
        "    def mean(self):\n",
        "        sizex = len(self.x)\n",
        "        sumx = 0\n",
        "        for i in self.x:\n",
        "            sumx = sumx + i\n",
        "        sizey = len(self.y)\n",
        "        sumy = 0\n",
        "        for i in self.y:\n",
        "            sumy = sumy + i            \n",
        "        \n",
        "        mean_x = sumx/sizex\n",
        "        mean_y = sumy/sizey\n",
        "        self.mean_x = mean_x\n",
        "        self.mean_y = mean_y\n",
        "        \n",
        "        print (\"Mean x : \",mean_x)\n",
        "        print (\"Mean y : \",mean_y)\n",
        "\n",
        "def main():\n",
        "    x = [0,1,2,3,4,5,6,7,8,9]\n",
        "    y = [1,2,4,5,4,3,7,6,7,8]\n",
        "    \n",
        "    obj_ref = my_class(x,y)\n",
        "    obj_ref.show()\n",
        "    obj_ref.mean()        \n",
        "        \n",
        "main()"
      ],
      "execution_count": 0,
      "outputs": [
        {
          "output_type": "stream",
          "text": [
            "[0, 1, 2, 3, 4, 5, 6, 7, 8, 9]\n",
            "[1, 2, 4, 5, 4, 3, 7, 6, 7, 8]\n",
            "Mean x :  4.5\n",
            "Mean y :  4.7\n"
          ],
          "name": "stdout"
        }
      ]
    }
  ]
}